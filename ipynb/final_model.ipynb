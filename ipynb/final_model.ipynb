{
 "cells": [
  {
   "cell_type": "markdown",
   "metadata": {},
   "source": [
    "## Importing Libraries to build our assistant "
   ]
  },
  {
   "cell_type": "code",
   "execution_count": 3,
   "metadata": {},
   "outputs": [
    {
     "name": "stdout",
     "output_type": "stream",
     "text": [
      "Requirement already satisfied: SpeechRecognition in c:\\users\\souvik\\appdata\\local\\packages\\pythonsoftwarefoundation.python.3.11_qbz5n2kfra8p0\\localcache\\local-packages\\python311\\site-packages (3.10.0)Note: you may need to restart the kernel to use updated packages.\n",
      "\n",
      "Requirement already satisfied: requests>=2.26.0 in c:\\users\\souvik\\appdata\\local\\packages\\pythonsoftwarefoundation.python.3.11_qbz5n2kfra8p0\\localcache\\local-packages\\python311\\site-packages (from SpeechRecognition) (2.31.0)\n",
      "Requirement already satisfied: charset-normalizer<4,>=2 in c:\\users\\souvik\\appdata\\local\\packages\\pythonsoftwarefoundation.python.3.11_qbz5n2kfra8p0\\localcache\\local-packages\\python311\\site-packages (from requests>=2.26.0->SpeechRecognition) (3.2.0)\n",
      "Requirement already satisfied: idna<4,>=2.5 in c:\\users\\souvik\\appdata\\local\\packages\\pythonsoftwarefoundation.python.3.11_qbz5n2kfra8p0\\localcache\\local-packages\\python311\\site-packages (from requests>=2.26.0->SpeechRecognition) (3.4)\n",
      "Requirement already satisfied: urllib3<3,>=1.21.1 in c:\\users\\souvik\\appdata\\local\\packages\\pythonsoftwarefoundation.python.3.11_qbz5n2kfra8p0\\localcache\\local-packages\\python311\\site-packages (from requests>=2.26.0->SpeechRecognition) (1.26.16)\n",
      "Requirement already satisfied: certifi>=2017.4.17 in c:\\users\\souvik\\appdata\\local\\packages\\pythonsoftwarefoundation.python.3.11_qbz5n2kfra8p0\\localcache\\local-packages\\python311\\site-packages (from requests>=2.26.0->SpeechRecognition) (2023.5.7)\n"
     ]
    }
   ],
   "source": [
    "pip install SpeechRecognition  \n",
    "pip install PyAudio\n",
    "pip install pyttsx3 # text-to-speech conversion library in Python\n",
    "pip install pywhatkit  #will give power of the internet to our personal assistant\n",
    "pip install wikipedia #to access and parse data from Wikipedia"
   ]
  },
  {
   "cell_type": "markdown",
   "metadata": {},
   "source": [
    "## Taking Audio as input from User"
   ]
  },
  {
   "cell_type": "code",
   "execution_count": 11,
   "metadata": {},
   "outputs": [
    {
     "name": "stderr",
     "output_type": "stream",
     "text": [
      "C:\\Users\\SOUVIK\\AppData\\Local\\Packages\\PythonSoftwareFoundation.Python.3.11_qbz5n2kfra8p0\\LocalCache\\local-packages\\Python311\\site-packages\\tqdm\\auto.py:21: TqdmWarning: IProgress not found. Please update jupyter and ipywidgets. See https://ipywidgets.readthedocs.io/en/stable/user_install.html\n",
      "  from .autonotebook import tqdm as notebook_tqdm\n"
     ]
    }
   ],
   "source": [
    "import speech_recognition as sr\n",
    "import pyttsx3\n",
    "import pywhatkit\n",
    "import datetime\n",
    "import wikipedia\n",
    "import ktrain"
   ]
  },
  {
   "cell_type": "code",
   "execution_count": 12,
   "metadata": {},
   "outputs": [
    {
     "ename": "Exception",
     "evalue": "Failed to load .preproc file in either the post v0.16.x loction (Models\\tf_model.preproc) or pre v0.16.x location (Models.preproc)",
     "output_type": "error",
     "traceback": [
      "\u001b[1;31m---------------------------------------------------------------------------\u001b[0m",
      "\u001b[1;31mFileNotFoundError\u001b[0m                         Traceback (most recent call last)",
      "File \u001b[1;32m~\\AppData\\Local\\Packages\\PythonSoftwareFoundation.Python.3.11_qbz5n2kfra8p0\\LocalCache\\local-packages\\Python311\\site-packages\\ktrain\\core.py:1829\u001b[0m, in \u001b[0;36mload_predictor\u001b[1;34m(fpath, batch_size, custom_objects)\u001b[0m\n\u001b[0;32m   1828\u001b[0m preproc_name \u001b[39m=\u001b[39m os\u001b[39m.\u001b[39mpath\u001b[39m.\u001b[39mjoin(fpath, U\u001b[39m.\u001b[39mPREPROC_NAME)\n\u001b[1;32m-> 1829\u001b[0m \u001b[39mwith\u001b[39;00m \u001b[39mopen\u001b[39;49m(preproc_name, \u001b[39m\"\u001b[39;49m\u001b[39mrb\u001b[39;49m\u001b[39m\"\u001b[39;49m) \u001b[39mas\u001b[39;00m f:\n\u001b[0;32m   1830\u001b[0m     preproc \u001b[39m=\u001b[39m pickle\u001b[39m.\u001b[39mload(f)\n",
      "\u001b[1;31mFileNotFoundError\u001b[0m: [Errno 2] No such file or directory: 'Models\\\\tf_model.preproc'",
      "\nDuring handling of the above exception, another exception occurred:\n",
      "\u001b[1;31mFileNotFoundError\u001b[0m                         Traceback (most recent call last)",
      "File \u001b[1;32m~\\AppData\\Local\\Packages\\PythonSoftwareFoundation.Python.3.11_qbz5n2kfra8p0\\LocalCache\\local-packages\\Python311\\site-packages\\ktrain\\core.py:1835\u001b[0m, in \u001b[0;36mload_predictor\u001b[1;34m(fpath, batch_size, custom_objects)\u001b[0m\n\u001b[0;32m   1834\u001b[0m \u001b[39m# warnings.warn('could not load .preproc file as %s - attempting to load as %s' % (os.path.join(fpath, U.PREPROC_NAME), preproc_name))\u001b[39;00m\n\u001b[1;32m-> 1835\u001b[0m \u001b[39mwith\u001b[39;00m \u001b[39mopen\u001b[39;49m(preproc_name, \u001b[39m\"\u001b[39;49m\u001b[39mrb\u001b[39;49m\u001b[39m\"\u001b[39;49m) \u001b[39mas\u001b[39;00m f:\n\u001b[0;32m   1836\u001b[0m     preproc \u001b[39m=\u001b[39m pickle\u001b[39m.\u001b[39mload(f)\n",
      "\u001b[1;31mFileNotFoundError\u001b[0m: [Errno 2] No such file or directory: 'Models.preproc'",
      "\nDuring handling of the above exception, another exception occurred:\n",
      "\u001b[1;31mException\u001b[0m                                 Traceback (most recent call last)",
      "Cell \u001b[1;32mIn[12], line 2\u001b[0m\n\u001b[0;32m      1\u001b[0m \u001b[39m# Load the saved predictor\u001b[39;00m\n\u001b[1;32m----> 2\u001b[0m predictor \u001b[39m=\u001b[39m ktrain\u001b[39m.\u001b[39;49mload_predictor(\u001b[39m\"\u001b[39;49m\u001b[39mModels\u001b[39;49m\u001b[39m\"\u001b[39;49m)\n",
      "File \u001b[1;32m~\\AppData\\Local\\Packages\\PythonSoftwareFoundation.Python.3.11_qbz5n2kfra8p0\\LocalCache\\local-packages\\Python311\\site-packages\\ktrain\\core.py:1838\u001b[0m, in \u001b[0;36mload_predictor\u001b[1;34m(fpath, batch_size, custom_objects)\u001b[0m\n\u001b[0;32m   1836\u001b[0m             preproc \u001b[39m=\u001b[39m pickle\u001b[39m.\u001b[39mload(f)\n\u001b[0;32m   1837\u001b[0m     \u001b[39mexcept\u001b[39;00m:\n\u001b[1;32m-> 1838\u001b[0m         \u001b[39mraise\u001b[39;00m \u001b[39mException\u001b[39;00m(\n\u001b[0;32m   1839\u001b[0m             \u001b[39m\"\u001b[39m\u001b[39mFailed to load .preproc file in either the post v0.16.x loction (\u001b[39m\u001b[39m%s\u001b[39;00m\u001b[39m) or pre v0.16.x location (\u001b[39m\u001b[39m%s\u001b[39;00m\u001b[39m)\u001b[39m\u001b[39m\"\u001b[39m\n\u001b[0;32m   1840\u001b[0m             \u001b[39m%\u001b[39m (os\u001b[39m.\u001b[39mpath\u001b[39m.\u001b[39mjoin(fpath, U\u001b[39m.\u001b[39mPREPROC_NAME), fpath \u001b[39m+\u001b[39m \u001b[39m\"\u001b[39m\u001b[39m.preproc\u001b[39m\u001b[39m\"\u001b[39m)\n\u001b[0;32m   1841\u001b[0m         )\n\u001b[0;32m   1843\u001b[0m \u001b[39m# load the model\u001b[39;00m\n\u001b[0;32m   1844\u001b[0m model \u001b[39m=\u001b[39m _load_model(fpath, preproc\u001b[39m=\u001b[39mpreproc, custom_objects\u001b[39m=\u001b[39mcustom_objects)\n",
      "\u001b[1;31mException\u001b[0m: Failed to load .preproc file in either the post v0.16.x loction (Models\\tf_model.preproc) or pre v0.16.x location (Models.preproc)"
     ]
    }
   ],
   "source": [
    "# Load the saved predictor\n",
    "predictor = ktrain.load_predictor(\"Models\")"
   ]
  },
  {
   "cell_type": "code",
   "execution_count": 9,
   "metadata": {},
   "outputs": [
    {
     "name": "stdout",
     "output_type": "stream",
     "text": [
      "Beep Beep\n"
     ]
    },
    {
     "ename": "TypeError",
     "evalue": "argument of type 'NoneType' is not iterable",
     "output_type": "error",
     "traceback": [
      "\u001b[1;31m---------------------------------------------------------------------------\u001b[0m",
      "\u001b[1;31mTypeError\u001b[0m                                 Traceback (most recent call last)",
      "Cell \u001b[1;32mIn[9], line 57\u001b[0m\n\u001b[0;32m     55\u001b[0m     \u001b[39melse\u001b[39;00m:\n\u001b[0;32m     56\u001b[0m         talk(\u001b[39m'\u001b[39m\u001b[39mI did not understand, can you repeat again\u001b[39m\u001b[39m'\u001b[39m)\n\u001b[1;32m---> 57\u001b[0m run_Max()\n",
      "Cell \u001b[1;32mIn[9], line 33\u001b[0m, in \u001b[0;36mrun_Max\u001b[1;34m()\u001b[0m\n\u001b[0;32m     30\u001b[0m \u001b[39mdef\u001b[39;00m \u001b[39mrun_Max\u001b[39m():             \u001b[39m# Activating Max\u001b[39;00m\n\u001b[0;32m     31\u001b[0m     instruct \u001b[39m=\u001b[39m command_for_max()\n\u001b[1;32m---> 33\u001b[0m     \u001b[39mif\u001b[39;00m \u001b[39m'\u001b[39;49m\u001b[39mplay\u001b[39;49m\u001b[39m'\u001b[39;49m \u001b[39min\u001b[39;49;00m instruct:\n\u001b[0;32m     34\u001b[0m         song \u001b[39m=\u001b[39m instruct\u001b[39m.\u001b[39mreplace(\u001b[39m'\u001b[39m\u001b[39mplay\u001b[39m\u001b[39m'\u001b[39m, \u001b[39m'\u001b[39m\u001b[39m'\u001b[39m)\n\u001b[0;32m     35\u001b[0m         talk(\u001b[39m'\u001b[39m\u001b[39mplaying\u001b[39m\u001b[39m'\u001b[39m \u001b[39m+\u001b[39m song)\n",
      "\u001b[1;31mTypeError\u001b[0m: argument of type 'NoneType' is not iterable"
     ]
    }
   ],
   "source": [
    "listener = sr.Recognizer()\n",
    "engine = pyttsx3.init()\n",
    "def talk(text):             # a function to create computer generated audio\n",
    "    engine.say(text)\n",
    "    engine.runAndWait()\n",
    "def gen_command():\n",
    "    try:\n",
    "        with sr.Microphone() as data_taker:\n",
    "             print(\"Beep Beep\")\n",
    "             voice = listener.listen(data_taker)\n",
    "             com = listener.recognize_google(voice)           \n",
    "             print(com)\n",
    "             return com \n",
    "    except:\n",
    "        pass\n",
    "def command_for_max():         # taking input from user in the form of audio\n",
    "    talk(\"Good Morning\")\n",
    "    try:\n",
    "        with sr.Microphone() as data_taker:\n",
    "             print(\"Beep Beep\")\n",
    "             voice = listener.listen(data_taker)\n",
    "             instruct = listener.recognize_google(voice)           \n",
    "             if'Max' in instruct:\n",
    "                instruct = instruct.replace('Max', '')\n",
    "                return instruct\n",
    "    except:\n",
    "        pass\n",
    "\n",
    "\n",
    "def run_Max():             # Activating Max\n",
    "    instruct = command_for_max()\n",
    "    \n",
    "    if 'play' in instruct:\n",
    "        song = instruct.replace('play', '')\n",
    "        talk('playing' + song)\n",
    "        pywhatkit.playonyt(song)\n",
    "        print(song)\n",
    "    elif 'time' in instruct:\n",
    "        time = datetime.datetime.now().strftime('%I: %M')\n",
    "        print(time)\n",
    "        talk('current time is' + time)\n",
    "    elif 'tell me about' in instruct:\n",
    "        thing = instruct.replace('tell me about', '')\n",
    "        info = wikipedia.summary(thing, 2)\n",
    "        print(info)\n",
    "        talk(info)\n",
    "    elif 'who are you' in instruct:\n",
    "        talk('I am your personal assistant')    \n",
    "    elif 'detect my mood' in instruct:\n",
    "        talk('Sure, pass me a sentence')\n",
    "        user_input = gen_command()\n",
    "        prediction = predictor.predict(user_input)\n",
    "        print(\"Predicted Emotion:\", prediction)\n",
    "        \n",
    "    else:\n",
    "        talk('I did not understand, can you repeat again')\n",
    "run_Max()"
   ]
  },
  {
   "cell_type": "code",
   "execution_count": 8,
   "metadata": {},
   "outputs": [
    {
     "name": "stdout",
     "output_type": "stream",
     "text": [
      "Beep Beep\n",
      "hello 123\n"
     ]
    },
    {
     "data": {
      "text/plain": [
       "'hello 123'"
      ]
     },
     "execution_count": 8,
     "metadata": {},
     "output_type": "execute_result"
    }
   ],
   "source": [
    "listener = sr.Recognizer()\n",
    "engine = pyttsx3.init()\n",
    "def talk(text):             # a function to create computer generated audio\n",
    "    engine.say(text)\n",
    "    engine.runAndWait()\n",
    "def gen_command():\n",
    "    try:\n",
    "        with sr.Microphone() as data_taker:\n",
    "             print(\"Beep Beep\")\n",
    "             voice = listener.listen(data_taker)\n",
    "             com = listener.recognize_google(voice)           \n",
    "             print(com)\n",
    "             return com \n",
    "    except:\n",
    "        pass\n",
    "gen_command()"
   ]
  },
  {
   "cell_type": "code",
   "execution_count": null,
   "metadata": {},
   "outputs": [],
   "source": []
  }
 ],
 "metadata": {
  "kernelspec": {
   "display_name": "Python 3",
   "language": "python",
   "name": "python3"
  },
  "language_info": {
   "codemirror_mode": {
    "name": "ipython",
    "version": 3
   },
   "file_extension": ".py",
   "mimetype": "text/x-python",
   "name": "python",
   "nbconvert_exporter": "python",
   "pygments_lexer": "ipython3",
   "version": "3.11.5"
  },
  "orig_nbformat": 4
 },
 "nbformat": 4,
 "nbformat_minor": 2
}
