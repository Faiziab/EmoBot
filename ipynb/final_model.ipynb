{
 "cells": [
  {
   "cell_type": "markdown",
   "metadata": {},
   "source": [
    "## Importing Libraries to build our assistant "
   ]
  },
  {
   "cell_type": "code",
   "execution_count": 2,
   "metadata": {},
   "outputs": [
    {
     "ename": "SyntaxError",
     "evalue": "invalid syntax (122529236.py, line 1)",
     "output_type": "error",
     "traceback": [
      "\u001b[1;36m  Cell \u001b[1;32mIn[2], line 1\u001b[1;36m\u001b[0m\n\u001b[1;33m    pip install SpeechRecognition\u001b[0m\n\u001b[1;37m        ^\u001b[0m\n\u001b[1;31mSyntaxError\u001b[0m\u001b[1;31m:\u001b[0m invalid syntax\n"
     ]
    }
   ],
   "source": [
    "pip install SpeechRecognition  \n",
    "pip install PyAudio\n",
    "pip install pyttsx3 # text-to-speech conversion library in Python\n",
    "pip install pywhatkit  #will give power of the internet to our personal assistant\n",
    "pip install wikipedia #to access and parse data from Wikipedia"
   ]
  },
  {
   "cell_type": "markdown",
   "metadata": {},
   "source": [
    "## Taking Audio as input from User"
   ]
  },
  {
   "cell_type": "code",
   "execution_count": 1,
   "metadata": {},
   "outputs": [
    {
     "name": "stderr",
     "output_type": "stream",
     "text": [
      "C:\\Users\\SOUVIK\\AppData\\Local\\Packages\\PythonSoftwareFoundation.Python.3.11_qbz5n2kfra8p0\\LocalCache\\local-packages\\Python311\\site-packages\\tqdm\\auto.py:21: TqdmWarning: IProgress not found. Please update jupyter and ipywidgets. See https://ipywidgets.readthedocs.io/en/stable/user_install.html\n",
      "  from .autonotebook import tqdm as notebook_tqdm\n"
     ]
    }
   ],
   "source": [
    "import speech_recognition as sr\n",
    "import pyttsx3\n",
    "import pywhatkit\n",
    "import datetime\n",
    "import wikipedia\n",
    "import ktrain"
   ]
  },
  {
   "cell_type": "code",
   "execution_count": 3,
   "metadata": {},
   "outputs": [
    {
     "name": "stderr",
     "output_type": "stream",
     "text": [
      "C:\\Users\\SOUVIK\\AppData\\Local\\Packages\\PythonSoftwareFoundation.Python.3.11_qbz5n2kfra8p0\\LocalCache\\local-packages\\Python311\\site-packages\\keras\\src\\initializers\\initializers.py:120: UserWarning: The initializer GlorotNormal is unseeded and being called multiple times, which will return identical values each time (even if the initializer is unseeded). Please update your code to provide a seed to the initializer, or avoid using the same initializer instance more than once.\n",
      "  warnings.warn(\n"
     ]
    }
   ],
   "source": [
    "# Load the saved predictor\n",
    "predictor = ktrain.load_predictor(\"D:\\EmoBot\\Models\")"
   ]
  },
  {
   "cell_type": "code",
   "execution_count": 7,
   "metadata": {},
   "outputs": [
    {
     "name": "stdout",
     "output_type": "stream",
     "text": [
      "Beep Beep\n",
      "Beep Beep\n",
      "is my exam I don't know what to do\n",
      "Predicted Emotion: fear\n"
     ]
    }
   ],
   "source": [
    "listener = sr.Recognizer()\n",
    "engine = pyttsx3.init()\n",
    "def talk(text):             # a function to create computer generated audio\n",
    "    engine.say(text)\n",
    "    engine.runAndWait()\n",
    "def gen_command():\n",
    "    try:\n",
    "        with sr.Microphone() as data_taker:     \n",
    "             print(\"Beep Beep\")\n",
    "             voice = listener.listen(data_taker)\n",
    "             com = listener.recognize_google(voice)           \n",
    "             print(com)\n",
    "             return com \n",
    "    except:\n",
    "        pass\n",
    "def command_for_max():         # taking input from user in the form of audio\n",
    "    talk(\"Good Morning\")\n",
    "    try:\n",
    "        with sr.Microphone() as data_taker:\n",
    "             print(\"Beep Beep\")\n",
    "             voice = listener.listen(data_taker)\n",
    "             instruct = listener.recognize_google(voice)           \n",
    "             if'Max' in instruct:\n",
    "                instruct = instruct.replace('Max', '')\n",
    "                return instruct\n",
    "    except:\n",
    "        pass\n",
    "\n",
    "\n",
    "def run_Max():             # Activating Max\n",
    "    instruct = command_for_max()\n",
    "    \n",
    "    if 'play' in instruct:\n",
    "        song = instruct.replace('play', '')\n",
    "        talk('playing' + song)\n",
    "        pywhatkit.playonyt(song)\n",
    "        print(song)\n",
    "    elif 'time' in instruct:\n",
    "        time = datetime.datetime.now().strftime('%I: %M')\n",
    "        print(time)\n",
    "        talk('current time is' + time)\n",
    "    elif 'tell me about' in instruct:\n",
    "        thing = instruct.replace('tell me about', '')\n",
    "        info = wikipedia.summary(thing, 2)\n",
    "        print(info)\n",
    "        talk(info)\n",
    "    elif 'who are you' in instruct:\n",
    "        talk('I am your personal assistant')    \n",
    "    elif 'detect my mood' in instruct:\n",
    "        talk('Sure, pass me a sentence')\n",
    "        user_input = gen_command()\n",
    "        prediction = predictor.predict(user_input)\n",
    "        print(\"Predicted Emotion:\", prediction)\n",
    "        \n",
    "    else:\n",
    "        talk('I did not understand, can you repeat again')\n",
    "run_Max()"
   ]
  },
  {
   "cell_type": "code",
   "execution_count": null,
   "metadata": {},
   "outputs": [],
   "source": []
  }
 ],
 "metadata": {
  "kernelspec": {
   "display_name": "Python 3",
   "language": "python",
   "name": "python3"
  },
  "language_info": {
   "codemirror_mode": {
    "name": "ipython",
    "version": 3
   },
   "file_extension": ".py",
   "mimetype": "text/x-python",
   "name": "python",
   "nbconvert_exporter": "python",
   "pygments_lexer": "ipython3",
   "version": "3.11.5"
  },
  "orig_nbformat": 4
 },
 "nbformat": 4,
 "nbformat_minor": 2
}
