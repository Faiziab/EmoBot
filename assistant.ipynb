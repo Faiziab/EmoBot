{
 "cells": [
  {
   "cell_type": "markdown",
   "metadata": {},
   "source": [
    "Step 1: Importing Libraries"
   ]
  },
  {
   "cell_type": "code",
   "execution_count": 3,
   "metadata": {},
   "outputs": [
    {
     "name": "stdout",
     "output_type": "stream",
     "text": [
      "Note: you may need to restart the kernel to use updated packages.\n"
     ]
    },
    {
     "name": "stderr",
     "output_type": "stream",
     "text": [
      "ERROR: Invalid requirement: '#convert'\n"
     ]
    }
   ],
   "source": [
    "pip install SpeechRecognition #convert our human speech into text."
   ]
  },
  {
   "cell_type": "code",
   "execution_count": 4,
   "metadata": {},
   "outputs": [
    {
     "name": "stdout",
     "output_type": "stream",
     "text": [
      "Requirement already satisfied: PyAudio in c:\\users\\souvik\\appdata\\local\\packages\\pythonsoftwarefoundation.python.3.11_qbz5n2kfra8p0\\localcache\\local-packages\\python311\\site-packages (0.2.13)Note: you may need to restart the kernel to use updated packages.\n",
      "\n"
     ]
    }
   ],
   "source": [
    "pip install PyAudio"
   ]
  },
  {
   "cell_type": "code",
   "execution_count": 5,
   "metadata": {},
   "outputs": [
    {
     "name": "stdout",
     "output_type": "stream",
     "text": [
      "Note: you may need to restart the kernel to use updated packages.\n"
     ]
    },
    {
     "name": "stderr",
     "output_type": "stream",
     "text": [
      "ERROR: Invalid requirement: '#'\n"
     ]
    }
   ],
   "source": [
    "pip install pyttsx3 # text-to-speech conversion library in Python"
   ]
  },
  {
   "cell_type": "code",
   "execution_count": 6,
   "metadata": {},
   "outputs": [
    {
     "name": "stdout",
     "output_type": "stream",
     "text": [
      "Note: you may need to restart the kernel to use updated packages.\n"
     ]
    },
    {
     "name": "stderr",
     "output_type": "stream",
     "text": [
      "ERROR: Invalid requirement: '#will'\n"
     ]
    }
   ],
   "source": [
    "\n",
    "pip install pywhatkit  #will give power of the internet to our personal assistant"
   ]
  },
  {
   "cell_type": "code",
   "execution_count": 7,
   "metadata": {},
   "outputs": [
    {
     "name": "stdout",
     "output_type": "stream",
     "text": [
      "Note: you may need to restart the kernel to use updated packages.\n"
     ]
    },
    {
     "name": "stderr",
     "output_type": "stream",
     "text": [
      "ERROR: Invalid requirement: '#to'\n"
     ]
    }
   ],
   "source": [
    "pip install wikipedia #to access and parse data from Wikipedia"
   ]
  },
  {
   "cell_type": "code",
   "execution_count": 8,
   "metadata": {},
   "outputs": [],
   "source": [
    "import speech_recognition as sr\n",
    "import pyttsx3\n",
    "import pywhatkit\n",
    "import datetime\n",
    "import wikipedia"
   ]
  },
  {
   "cell_type": "markdown",
   "metadata": {},
   "source": [
    "Taking audio as input from user"
   ]
  },
  {
   "cell_type": "code",
   "execution_count": 2,
   "metadata": {},
   "outputs": [
    {
     "name": "stdout",
     "output_type": "stream",
     "text": [
      "Beep Beep\n",
      "  cold water\n"
     ]
    }
   ],
   "source": [
    "import speech_recognition as sr\n",
    "import pyttsx3\n",
    "import pywhatkit\n",
    "\n",
    "listener = sr.Recognizer()\n",
    "engine = pyttsx3.init()\n",
    "def talk(text):             # a function to create computer generated audio\n",
    "    engine.say(text)\n",
    "    engine.runAndWait()\n",
    "def gen_command():\n",
    "    try:\n",
    "        with sr.Microphone() as data_taker:\n",
    "             print(\"Beep Beep\")\n",
    "             voice = listener.listen(data_taker)\n",
    "             com = listener.recognize_google(voice)           \n",
    "             print(com)\n",
    "             return com \n",
    "    except:\n",
    "        pass\n",
    "def command_for_max():         # taking input from user in the form of audio\n",
    "    talk(\"Good Morning\")\n",
    "    try:\n",
    "        with sr.Microphone() as data_taker:\n",
    "             print(\"Beep Beep\")\n",
    "             voice = listener.listen(data_taker)\n",
    "             instruct = listener.recognize_google(voice)           \n",
    "             if'Max' in instruct:\n",
    "                instruct = instruct.replace('Max', '')\n",
    "                return instruct\n",
    "    except:\n",
    "        pass\n",
    "\n",
    "\n",
    "def run_Max():             # Activating Max\n",
    "    instruct = command_for_max()\n",
    "    \n",
    "    if 'play' in instruct:\n",
    "        song = instruct.replace('play', '')\n",
    "        talk('playing' + song)\n",
    "        pywhatkit.playonyt(song)\n",
    "        print(song)\n",
    "    elif 'time' in instruct:\n",
    "        time = datetime.datetime.now().strftime('%I: %M')\n",
    "        print(time)\n",
    "        talk('current time is' + time)\n",
    "    elif 'tell me about' in instruct:\n",
    "        thing = instruct.replace('tell me about', '')\n",
    "        info = wikipedia.summary(thing, 2)\n",
    "        print(info)\n",
    "        talk(info)\n",
    "    elif 'who are you' in instruct:\n",
    "        talk('I am your personal assistant')    \n",
    "    else:\n",
    "        talk('I did not understand, can you repeat again')\n",
    "run_Max()"
   ]
  },
  {
   "cell_type": "code",
   "execution_count": 10,
   "metadata": {},
   "outputs": [
    {
     "name": "stdout",
     "output_type": "stream",
     "text": [
      "I have a pen which is blue in \n"
     ]
    }
   ],
   "source": [
    "elif 'email' in command: \n",
    "    sofiaResponse('Who is the recipient?')\n",
    "    recipient = myCommand()\n",
    "    if 'rajat' in recipient: \n",
    "        sofiaResponse('What should I say to him?')\n",
    "        content = myCommand() \n",
    "        mail = smtplib.SMTP('smtp.gmail.com', 587)\n",
    "        mail.ehlo() mail.starttls() \n",
    "        mail.login('your_email_address', 'your_password') \n",
    "        mail.sendmail('sender_email', 'receiver_email', content) \n",
    "        mail.close() \n",
    "        sofiaResponse('Email has been sent successfuly. You can check your inbox.')else: sofiaResponse('I don\\'t know what you mean!')"
   ]
  },
  {
   "cell_type": "code",
   "execution_count": 52,
   "metadata": {},
   "outputs": [
    {
     "name": "stdout",
     "output_type": "stream",
     "text": [
      "321"
     ]
    }
   ],
   "source": [
    "try:\n",
    "        with sr.Microphone() as data_taker:\n",
    "             print(\"Beep Beep\")\n",
    "             voice = listener.listen(data_taker)\n",
    "             instruct = listener.recognize_google(voice)           \n",
    "             if'Max' in instruct:\n",
    "                instruct = instruct.replace('Max', '')\n",
    "                return instruct\n",
    "    except:\n",
    "        pass"
   ]
  },
  {
   "cell_type": "code",
   "execution_count": 11,
   "metadata": {},
   "outputs": [
    {
     "ename": "KeyError",
     "evalue": "'main'",
     "output_type": "error",
     "traceback": [
      "\u001b[1;31m---------------------------------------------------------------------------\u001b[0m",
      "\u001b[1;31mKeyError\u001b[0m                                  Traceback (most recent call last)",
      "Cell \u001b[1;32mIn[11], line 34\u001b[0m\n\u001b[0;32m     26\u001b[0m \u001b[39m# Now x contains list of nested dictionaries\u001b[39;00m\n\u001b[0;32m     27\u001b[0m \u001b[39m# Check the value of \"cod\" key is equal to\u001b[39;00m\n\u001b[0;32m     28\u001b[0m \u001b[39m# \"404\", means city is found otherwise,\u001b[39;00m\n\u001b[0;32m     29\u001b[0m \u001b[39m# city is not found\u001b[39;00m\n\u001b[0;32m     30\u001b[0m \u001b[39mif\u001b[39;00m x[\u001b[39m\"\u001b[39m\u001b[39mcod\u001b[39m\u001b[39m\"\u001b[39m] \u001b[39m!=\u001b[39m \u001b[39m\"\u001b[39m\u001b[39m404\u001b[39m\u001b[39m\"\u001b[39m:\n\u001b[0;32m     31\u001b[0m \n\u001b[0;32m     32\u001b[0m \t\u001b[39m# store the value of \"main\"\u001b[39;00m\n\u001b[0;32m     33\u001b[0m \t\u001b[39m# key in variable y\u001b[39;00m\n\u001b[1;32m---> 34\u001b[0m \ty \u001b[39m=\u001b[39m x[\u001b[39m\"\u001b[39;49m\u001b[39mmain\u001b[39;49m\u001b[39m\"\u001b[39;49m]\n\u001b[0;32m     36\u001b[0m \t\u001b[39m# store the value corresponding\u001b[39;00m\n\u001b[0;32m     37\u001b[0m \t\u001b[39m# to the \"temp\" key of y\u001b[39;00m\n\u001b[0;32m     38\u001b[0m \tcurrent_temperature \u001b[39m=\u001b[39m y[\u001b[39m\"\u001b[39m\u001b[39mtemp\u001b[39m\u001b[39m\"\u001b[39m]\n",
      "\u001b[1;31mKeyError\u001b[0m: 'main'"
     ]
    }
   ],
   "source": []
  },
  {
   "cell_type": "code",
   "execution_count": null,
   "metadata": {},
   "outputs": [],
   "source": [
    "import requests\n",
    "api_key =  da20e166473da8992d83c894edec654f\n",
    "\n",
    "user_input = input(\"Enter City\")\n",
    "\n",
    "weather_data = requests.get()"
   ]
  }
 ],
 "metadata": {
  "kernelspec": {
   "display_name": "Python 3",
   "language": "python",
   "name": "python3"
  },
  "language_info": {
   "codemirror_mode": {
    "name": "ipython",
    "version": 3
   },
   "file_extension": ".py",
   "mimetype": "text/x-python",
   "name": "python",
   "nbconvert_exporter": "python",
   "pygments_lexer": "ipython3",
   "version": "3.11.4"
  },
  "orig_nbformat": 4
 },
 "nbformat": 4,
 "nbformat_minor": 2
}
